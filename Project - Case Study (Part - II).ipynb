{
 "cells": [
  {
   "cell_type": "code",
   "execution_count": 1,
   "id": "f5066c7d",
   "metadata": {},
   "outputs": [],
   "source": [
    "import pandas as pd\n",
    "import numpy as np\n",
    "import matplotlib.pyplot as plt"
   ]
  },
  {
   "cell_type": "code",
   "execution_count": 2,
   "id": "ccf59aaf",
   "metadata": {},
   "outputs": [
    {
     "name": "stdout",
     "output_type": "stream",
     "text": [
      "(2372, 10)\n"
     ]
    },
    {
     "data": {
      "text/html": [
       "<div>\n",
       "<style scoped>\n",
       "    .dataframe tbody tr th:only-of-type {\n",
       "        vertical-align: middle;\n",
       "    }\n",
       "\n",
       "    .dataframe tbody tr th {\n",
       "        vertical-align: top;\n",
       "    }\n",
       "\n",
       "    .dataframe thead th {\n",
       "        text-align: right;\n",
       "    }\n",
       "</style>\n",
       "<table border=\"1\" class=\"dataframe\">\n",
       "  <thead>\n",
       "    <tr style=\"text-align: right;\">\n",
       "      <th></th>\n",
       "      <th>SNo</th>\n",
       "      <th>Date</th>\n",
       "      <th>StartupName</th>\n",
       "      <th>IndustryVertical</th>\n",
       "      <th>SubVertical</th>\n",
       "      <th>CityLocation</th>\n",
       "      <th>InvestorsName</th>\n",
       "      <th>InvestmentType</th>\n",
       "      <th>AmountInUSD</th>\n",
       "      <th>Remarks</th>\n",
       "    </tr>\n",
       "  </thead>\n",
       "  <tbody>\n",
       "    <tr>\n",
       "      <th>0</th>\n",
       "      <td>0</td>\n",
       "      <td>01/08/2017</td>\n",
       "      <td>TouchKin</td>\n",
       "      <td>Technology</td>\n",
       "      <td>Predictive Care Platform</td>\n",
       "      <td>Bangalore</td>\n",
       "      <td>Kae Capital</td>\n",
       "      <td>Private Equity</td>\n",
       "      <td>1,300,000</td>\n",
       "      <td>NaN</td>\n",
       "    </tr>\n",
       "    <tr>\n",
       "      <th>1</th>\n",
       "      <td>1</td>\n",
       "      <td>02/08/2017</td>\n",
       "      <td>Ethinos</td>\n",
       "      <td>Technology</td>\n",
       "      <td>Digital Marketing Agency</td>\n",
       "      <td>Mumbai</td>\n",
       "      <td>Triton Investment Advisors</td>\n",
       "      <td>Private Equity</td>\n",
       "      <td>NaN</td>\n",
       "      <td>NaN</td>\n",
       "    </tr>\n",
       "    <tr>\n",
       "      <th>2</th>\n",
       "      <td>2</td>\n",
       "      <td>02/08/2017</td>\n",
       "      <td>Leverage Edu</td>\n",
       "      <td>Consumer Internet</td>\n",
       "      <td>Online platform for Higher Education Services</td>\n",
       "      <td>New Delhi</td>\n",
       "      <td>Kashyap Deorah, Anand Sankeshwar, Deepak Jain,...</td>\n",
       "      <td>Seed Funding</td>\n",
       "      <td>NaN</td>\n",
       "      <td>NaN</td>\n",
       "    </tr>\n",
       "    <tr>\n",
       "      <th>3</th>\n",
       "      <td>3</td>\n",
       "      <td>02/08/2017</td>\n",
       "      <td>Zepo</td>\n",
       "      <td>Consumer Internet</td>\n",
       "      <td>DIY Ecommerce platform</td>\n",
       "      <td>Mumbai</td>\n",
       "      <td>Kunal Shah, LetsVenture, Anupam Mittal, Hetal ...</td>\n",
       "      <td>Seed Funding</td>\n",
       "      <td>500,000</td>\n",
       "      <td>NaN</td>\n",
       "    </tr>\n",
       "    <tr>\n",
       "      <th>4</th>\n",
       "      <td>4</td>\n",
       "      <td>02/08/2017</td>\n",
       "      <td>Click2Clinic</td>\n",
       "      <td>Consumer Internet</td>\n",
       "      <td>healthcare service aggregator</td>\n",
       "      <td>Hyderabad</td>\n",
       "      <td>Narottam Thudi, Shireesh Palle</td>\n",
       "      <td>Seed Funding</td>\n",
       "      <td>850,000</td>\n",
       "      <td>NaN</td>\n",
       "    </tr>\n",
       "  </tbody>\n",
       "</table>\n",
       "</div>"
      ],
      "text/plain": [
       "   SNo        Date   StartupName   IndustryVertical  \\\n",
       "0    0  01/08/2017      TouchKin         Technology   \n",
       "1    1  02/08/2017       Ethinos         Technology   \n",
       "2    2  02/08/2017  Leverage Edu  Consumer Internet   \n",
       "3    3  02/08/2017          Zepo  Consumer Internet   \n",
       "4    4  02/08/2017  Click2Clinic  Consumer Internet   \n",
       "\n",
       "                                     SubVertical CityLocation  \\\n",
       "0                       Predictive Care Platform    Bangalore   \n",
       "1                       Digital Marketing Agency       Mumbai   \n",
       "2  Online platform for Higher Education Services    New Delhi   \n",
       "3                         DIY Ecommerce platform       Mumbai   \n",
       "4                  healthcare service aggregator    Hyderabad   \n",
       "\n",
       "                                       InvestorsName  InvestmentType  \\\n",
       "0                                        Kae Capital  Private Equity   \n",
       "1                         Triton Investment Advisors  Private Equity   \n",
       "2  Kashyap Deorah, Anand Sankeshwar, Deepak Jain,...    Seed Funding   \n",
       "3  Kunal Shah, LetsVenture, Anupam Mittal, Hetal ...    Seed Funding   \n",
       "4                     Narottam Thudi, Shireesh Palle    Seed Funding   \n",
       "\n",
       "  AmountInUSD Remarks  \n",
       "0   1,300,000     NaN  \n",
       "1         NaN     NaN  \n",
       "2         NaN     NaN  \n",
       "3     500,000     NaN  \n",
       "4     850,000     NaN  "
      ]
     },
     "execution_count": 2,
     "metadata": {},
     "output_type": "execute_result"
    }
   ],
   "source": [
    "data = pd.read_csv('startup_funding.csv')\n",
    "df = data.copy()\n",
    "print(df.shape)\n",
    "df.head()"
   ]
  },
  {
   "cell_type": "code",
   "execution_count": 3,
   "id": "8cea99f9",
   "metadata": {},
   "outputs": [
    {
     "data": {
      "text/plain": [
       "SNo                  int64\n",
       "Date                object\n",
       "StartupName         object\n",
       "IndustryVertical    object\n",
       "SubVertical         object\n",
       "CityLocation        object\n",
       "InvestorsName       object\n",
       "InvestmentType      object\n",
       "AmountInUSD         object\n",
       "Remarks             object\n",
       "dtype: object"
      ]
     },
     "execution_count": 3,
     "metadata": {},
     "output_type": "execute_result"
    }
   ],
   "source": [
    "df.dtypes"
   ]
  },
  {
   "cell_type": "code",
   "execution_count": 4,
   "id": "3e05bb37",
   "metadata": {},
   "outputs": [],
   "source": [
    "df = df[df['CityLocation'].notna()]\n",
    "df = df[df['AmountInUSD'].notna()]\n",
    "df[\"AmountInUSD\"] = df['AmountInUSD'].str.replace(',', '').astype(float)\n",
    "df['Date'] = df['Date'].str.replace(r'.','/', regex=True)"
   ]
  },
  {
   "cell_type": "code",
   "execution_count": 5,
   "id": "295f5be4",
   "metadata": {},
   "outputs": [],
   "source": [
    "df['Date'] =  pd.to_datetime(df['Date'],format='%d/%m/%Y',cache=False)"
   ]
  },
  {
   "cell_type": "code",
   "execution_count": 6,
   "id": "f8016e12",
   "metadata": {},
   "outputs": [
    {
     "data": {
      "text/plain": [
       "SNo                          int64\n",
       "Date                datetime64[ns]\n",
       "StartupName                 object\n",
       "IndustryVertical            object\n",
       "SubVertical                 object\n",
       "CityLocation                object\n",
       "InvestorsName               object\n",
       "InvestmentType              object\n",
       "AmountInUSD                float64\n",
       "Remarks                     object\n",
       "dtype: object"
      ]
     },
     "execution_count": 6,
     "metadata": {},
     "output_type": "execute_result"
    }
   ],
   "source": [
    "df.dtypes"
   ]
  },
  {
   "cell_type": "code",
   "execution_count": 7,
   "id": "56bf50a4",
   "metadata": {},
   "outputs": [
    {
     "data": {
      "text/plain": [
       "['Ahmedabad',\n",
       " 'Bangalore',\n",
       " 'Bangalore / Palo Alto',\n",
       " 'Bangalore / SFO',\n",
       " 'Bangalore / San Mateo',\n",
       " 'Bangalore / USA',\n",
       " 'Bangalore/ Bangkok',\n",
       " 'Belgaum',\n",
       " 'Bhopal',\n",
       " 'Boston',\n",
       " 'Chandigarh',\n",
       " 'Chennai',\n",
       " 'Coimbatore',\n",
       " 'Dallas / Hyderabad',\n",
       " 'Delhi',\n",
       " 'Goa',\n",
       " 'Gurgaon',\n",
       " 'Gurgaon / SFO',\n",
       " 'Gwalior',\n",
       " 'Hyderabad',\n",
       " 'Hyderabad/USA',\n",
       " 'India / US',\n",
       " 'Indore',\n",
       " 'Jaipur',\n",
       " 'Jodhpur',\n",
       " 'Kanpur',\n",
       " 'Kerala',\n",
       " 'Kolkata',\n",
       " 'Lucknow',\n",
       " 'Missourie',\n",
       " 'Mumbai',\n",
       " 'Mumbai / Global',\n",
       " 'Mumbai / NY',\n",
       " 'Mumbai / UK',\n",
       " 'New Delhi',\n",
       " 'New Delhi / US',\n",
       " 'New York/ India',\n",
       " 'Noida',\n",
       " 'Noida / Singapore',\n",
       " 'Panaji',\n",
       " 'Pune',\n",
       " 'Pune / Dubai',\n",
       " 'Pune / US',\n",
       " 'Pune/Seattle',\n",
       " 'SFO / Bangalore',\n",
       " 'Singapore',\n",
       " 'Trivandrum',\n",
       " 'US/India',\n",
       " 'USA/India',\n",
       " 'Udupi',\n",
       " 'Vadodara',\n",
       " 'Varanasi']"
      ]
     },
     "execution_count": 7,
     "metadata": {},
     "output_type": "execute_result"
    }
   ],
   "source": [
    "sorted(df['CityLocation'].unique())"
   ]
  },
  {
   "cell_type": "code",
   "execution_count": 8,
   "id": "286be0df",
   "metadata": {},
   "outputs": [],
   "source": [
    "df['CityLocation'].replace('Delhi','New Delhi', inplace = True)\n",
    "df['CityLocation'].replace('bangalore','Bangalore', inplace = True)\n",
    "\n",
    "def valid_city(city):\n",
    "    city = str(city)\n",
    "    if city != '':\n",
    "        return city.split('/')[0].strip()\n",
    "    \n",
    "df['CityLocation'] = df['CityLocation'].apply(valid_city)"
   ]
  },
  {
   "cell_type": "code",
   "execution_count": 9,
   "id": "5b72ac30",
   "metadata": {},
   "outputs": [
    {
     "data": {
      "text/plain": [
       "['Ahmedabad',\n",
       " 'Bangalore',\n",
       " 'Belgaum',\n",
       " 'Bhopal',\n",
       " 'Boston',\n",
       " 'Chandigarh',\n",
       " 'Chennai',\n",
       " 'Coimbatore',\n",
       " 'Dallas',\n",
       " 'Goa',\n",
       " 'Gurgaon',\n",
       " 'Gwalior',\n",
       " 'Hyderabad',\n",
       " 'India',\n",
       " 'Indore',\n",
       " 'Jaipur',\n",
       " 'Jodhpur',\n",
       " 'Kanpur',\n",
       " 'Kerala',\n",
       " 'Kolkata',\n",
       " 'Lucknow',\n",
       " 'Missourie',\n",
       " 'Mumbai',\n",
       " 'New Delhi',\n",
       " 'New York',\n",
       " 'Noida',\n",
       " 'Panaji',\n",
       " 'Pune',\n",
       " 'SFO',\n",
       " 'Singapore',\n",
       " 'Trivandrum',\n",
       " 'US',\n",
       " 'USA',\n",
       " 'Udupi',\n",
       " 'Vadodara',\n",
       " 'Varanasi']"
      ]
     },
     "execution_count": 9,
     "metadata": {},
     "output_type": "execute_result"
    }
   ],
   "source": [
    "sorted(df['CityLocation'].unique())"
   ]
  },
  {
   "cell_type": "markdown",
   "id": "6c8777e4",
   "metadata": {},
   "source": [
    "## 1.)\n",
    "Your Friend has developed the Product and he wants to establish the product startup and he is searching for a perfect location where getting the investment has a high chance. But due to its financial restriction, he can choose only between three locations -  Bangalore, Mumbai, and NCR. As a friend, you want to help your friend deciding the location. NCR include Gurgaon, Noida and New Delhi. Find the location where the most number of funding is done. That means, find the location where startups has received funding maximum number of times. Plot the bar graph between location and number of funding. Take city name \"Delhi\" as \"New Delhi\". Check the case-sensitiveness of cities also. That means, at some place instead of \"Bangalore\", \"bangalore\" is given. Take city name as \"Bangalore\". For few startups multiple locations are given, one Indian and one Foreign. Consider the startup if any one of the city lies in given locations."
   ]
  },
  {
   "cell_type": "code",
   "execution_count": 10,
   "id": "69cb0a99",
   "metadata": {},
   "outputs": [
    {
     "data": {
      "image/png": "[encoded data removed]",
      "text/plain": [
       "<Figure size 640x480 with 1 Axes>"
      ]
     },
     "metadata": {},
     "output_type": "display_data"
    }
   ],
   "source": [
    "locations=['Bangalore','Mumbai','Gurgaon','Noida','New Delhi']\n",
    "cities_no_of_fundings = df[df['CityLocation'].isin(locations)]['CityLocation']\n",
    "fundings_data = cities_no_of_fundings.value_counts()\n",
    "\n",
    "city_names = np.array(fundings_data.index)\n",
    "no_of_fundings = np.array(fundings_data.values)\n",
    "\n",
    "plt.bar(city_names, no_of_fundings)\n",
    "plt.ylabel('Number of Fundings')\n",
    "plt.title('Number of Fundings Received for each city',fontsize=17)\n",
    "cell_values = []\n",
    "for i in fundings_data.values:\n",
    "    cell_values.append(str(i))\n",
    "def addlabels(x,y):\n",
    "    for i in range(len(x)):\n",
    "        plt.text(i-.1,y[i]+.5,y[i])\n",
    "addlabels(city_names, no_of_fundings)\n",
    "plt.show()"
   ]
  },
  {
   "cell_type": "markdown",
   "id": "6e41ba7d",
   "metadata": {},
   "source": [
    "## Bangalore City has received the most fundings so I would recommend Bangalore city to my friend to build his startup there"
   ]
  },
  {
   "cell_type": "markdown",
   "id": "b3f2a93c",
   "metadata": {},
   "source": [
    "## 2.)\n",
    "Even after trying for so many times, your friend’s startup could not find the investment. So you decided to take this matter in your hand and try to find the list of investors who probably can invest in your friend’s startup. Your list will increase the chance of your friend startup getting some initial investment by contacting these investors. Find the top 5 investors who have invested maximum number of times (consider repeat investments in one company also). In a startup, multiple investors might have invested. So consider each investor for that startup. Ignore undisclosed investors."
   ]
  },
  {
   "cell_type": "code",
   "execution_count": 11,
   "id": "5d6c7c89",
   "metadata": {},
   "outputs": [],
   "source": [
    "df_new = data[data['InvestorsName'].notna()]\n",
    "investors=[]\n",
    "for row in df_new['InvestorsName']:\n",
    "    for i in row.split(','):\n",
    "        if 'undisclosed' not in i.lower() and i != \"\":\n",
    "            investors.append(i.lower().strip())"
   ]
  },
  {
   "cell_type": "code",
   "execution_count": 41,
   "id": "9f361624",
   "metadata": {},
   "outputs": [],
   "source": [
    "dic=dict()\n",
    "for i in investors:\n",
    "    if i != \"\":\n",
    "        dic[i]=dic.get(i,0)+1\n",
    "investor_funding = pd.DataFrame(sorted(dic.items(), key=lambda kv:(kv[1], kv[0]),reverse=True),\n",
    "                                columns=['Investor_Name','No_of_investments'])"
   ]
  },
  {
   "cell_type": "code",
   "execution_count": 38,
   "id": "1afd37e9",
   "metadata": {},
   "outputs": [
    {
     "name": "stdout",
     "output_type": "stream",
     "text": [
      "Investors like sequoia - \n",
      "['sequoia and kalaari capital.', 'sequoia capital.', 'sequoia capital india', 'sequoia capital global equities', 'sequoia capital', 'sequoia india', 'sequoia capital india advisors', 'sequoia capital india and omidyar network']\n",
      "\n",
      "Investors like sequoia - accel\n",
      "['accel partner', 'accel us', 'accel partners & others', 'accel partners', 'accel partners india', 'accel india', 'sands capital and accel partners', 'iifl and accel partners', 'accel partners rnt associates', 'google capital & accel partners', 'accel partners & existing investors']\n",
      "\n",
      "Investors like sequoia - Kalaari\n",
      "['sequoia and kalaari capital.', 'kalaari capital and inventus capital', 'kalaari capital partners', 'kalaari capital accelerator program', 'kalaari capital', 'kalaari capital and idg ventures india']\n",
      "\n",
      "Investors like sequoia - Saif\n",
      "['saif partners and others', 'saif partners.', 'saif partners & others', 'saif partners']\n",
      "\n",
      "Investors like sequoia - Indian\n",
      "['indian angel network (ian)', 'indian angel network', 'indian angels network']\n"
     ]
    }
   ],
   "source": [
    "seq = [i for i in set(investors) if 'quoia' in i]\n",
    "print('Investors like sequoia - ')\n",
    "print(seq)\n",
    "print()\n",
    "accel = [i for i in set(investors) if 'accel ' in i]\n",
    "print('Investors like sequoia - accel')\n",
    "print(accel)\n",
    "print()\n",
    "kalaari = [i for i in set(investors) if 'alaari ' in i]\n",
    "print('Investors like sequoia - Kalaari')\n",
    "print(kalaari)\n",
    "print()\n",
    "saif = [i for i in set(investors) if 'saif ' in i]\n",
    "print('Investors like sequoia - Saif')\n",
    "print(saif)\n",
    "print()\n",
    "Angel = [i for i in set(investors) if 'indian angel' in i]\n",
    "print('Investors like sequoia - Indian')\n",
    "print(Angel)"
   ]
  },
  {
   "cell_type": "code",
   "execution_count": 49,
   "id": "c9ac419f",
   "metadata": {},
   "outputs": [],
   "source": [
    "investor_funding.loc[investor_funding['Investor_Name'].str.contains('quoia') & ~investor_funding['Investor_Name'].str.contains('and'), 'Investor_Name'] = 'sequoia capital'\n",
    "investor_funding.loc[investor_funding['Investor_Name'].str.contains('accel ') & ~investor_funding['Investor_Name'].str.contains('and'), 'Investor_Name'] = 'accel partners'\n",
    "investor_funding.loc[investor_funding['Investor_Name'].str.contains('alaari ') & ~investor_funding['Investor_Name'].str.contains('and'), 'Investor_Name'] = 'kalaari capital'\n",
    "investor_funding.loc[investor_funding['Investor_Name'].str.contains('saif') & ~investor_funding['Investor_Name'].str.contains('and'), 'Investor_Name'] = 'saif partners'\n",
    "investor_funding.loc[investor_funding['Investor_Name'].str.contains('indian angel') & ~investor_funding['Investor_Name'].str.contains('and'), 'Investor_Name'] = 'indian angel network'\n"
   ]
  },
  {
   "cell_type": "code",
   "execution_count": 45,
   "id": "815504ec",
   "metadata": {},
   "outputs": [
    {
     "data": {
      "image/png": "[encoded data removed]",
      "text/plain": [
       "<Figure size 640x480 with 1 Axes>"
      ]
     },
     "metadata": {},
     "output_type": "display_data"
    }
   ],
   "source": [
    "\n",
    "investor_names = np.array(investor_funding['Investor_Name'][:5])\n",
    "no_of_fundings = np.array(investor_funding['No_of_investments'][:5])\n",
    "\n",
    "plt.bar(investor_names, no_of_fundings)\n",
    "plt.ylabel('Number of Fundings')\n",
    "plt.title('Number of Fundings by Investor',fontsize=17)\n",
    "plt.xticks(rotation=90)\n",
    "cell_values = []\n",
    "for i in no_of_fundings:\n",
    "    cell_values.append(str(i))\n",
    "addlabels(investor_names, no_of_fundings)\n",
    "plt.show()"
   ]
  },
  {
   "cell_type": "code",
   "execution_count": 46,
   "id": "ef27f670",
   "metadata": {},
   "outputs": [
    {
     "data": {
      "text/html": [
       "<div>\n",
       "<style scoped>\n",
       "    .dataframe tbody tr th:only-of-type {\n",
       "        vertical-align: middle;\n",
       "    }\n",
       "\n",
       "    .dataframe tbody tr th {\n",
       "        vertical-align: top;\n",
       "    }\n",
       "\n",
       "    .dataframe thead th {\n",
       "        text-align: right;\n",
       "    }\n",
       "</style>\n",
       "<table border=\"1\" class=\"dataframe\">\n",
       "  <thead>\n",
       "    <tr style=\"text-align: right;\">\n",
       "      <th></th>\n",
       "      <th>Investor_Name</th>\n",
       "      <th>No_of_investments</th>\n",
       "    </tr>\n",
       "  </thead>\n",
       "  <tbody>\n",
       "    <tr>\n",
       "      <th>0</th>\n",
       "      <td>sequoia capital</td>\n",
       "      <td>64</td>\n",
       "    </tr>\n",
       "    <tr>\n",
       "      <th>1</th>\n",
       "      <td>accel partners</td>\n",
       "      <td>53</td>\n",
       "    </tr>\n",
       "    <tr>\n",
       "      <th>2</th>\n",
       "      <td>kalaari capital</td>\n",
       "      <td>44</td>\n",
       "    </tr>\n",
       "    <tr>\n",
       "      <th>3</th>\n",
       "      <td>saif partners</td>\n",
       "      <td>43</td>\n",
       "    </tr>\n",
       "    <tr>\n",
       "      <th>4</th>\n",
       "      <td>indian angel network</td>\n",
       "      <td>41</td>\n",
       "    </tr>\n",
       "    <tr>\n",
       "      <th>...</th>\n",
       "      <td>...</td>\n",
       "      <td>...</td>\n",
       "    </tr>\n",
       "    <tr>\n",
       "      <th>2468</th>\n",
       "      <td>1crowd (through crowdfunding)</td>\n",
       "      <td>1</td>\n",
       "    </tr>\n",
       "    <tr>\n",
       "      <th>2469</th>\n",
       "      <td>1crowd (through crowd funding)</td>\n",
       "      <td>1</td>\n",
       "    </tr>\n",
       "    <tr>\n",
       "      <th>2470</th>\n",
       "      <td>122 west ventures</td>\n",
       "      <td>1</td>\n",
       "    </tr>\n",
       "    <tr>\n",
       "      <th>2471</th>\n",
       "      <td>&amp; others</td>\n",
       "      <td>1</td>\n",
       "    </tr>\n",
       "    <tr>\n",
       "      <th>2472</th>\n",
       "      <td>&amp; other angel investors.</td>\n",
       "      <td>1</td>\n",
       "    </tr>\n",
       "  </tbody>\n",
       "</table>\n",
       "<p>2473 rows × 2 columns</p>\n",
       "</div>"
      ],
      "text/plain": [
       "                       Investor_Name  No_of_investments\n",
       "0                    sequoia capital                 64\n",
       "1                     accel partners                 53\n",
       "2                    kalaari capital                 44\n",
       "3                      saif partners                 43\n",
       "4               indian angel network                 41\n",
       "...                              ...                ...\n",
       "2468   1crowd (through crowdfunding)                  1\n",
       "2469  1crowd (through crowd funding)                  1\n",
       "2470               122 west ventures                  1\n",
       "2471                        & others                  1\n",
       "2472        & other angel investors.                  1\n",
       "\n",
       "[2473 rows x 2 columns]"
      ]
     },
     "execution_count": 46,
     "metadata": {},
     "output_type": "execute_result"
    }
   ],
   "source": [
    "investor_funding"
   ]
  },
  {
   "cell_type": "markdown",
   "id": "edb3cbcb",
   "metadata": {},
   "source": [
    "## 3.)\n",
    "After re-analysing the dataset you found out that some investors have invested in the same startup at different number of funding rounds. So before finalising the previous list, you want to improvise it by finding the top 5 investors who have invested in different number of startups. This list will be more helpful than your previous list in finding the investment for your friend startup. Find the top 5 investors who have invested maximum number of times in different companies. That means, if one investor has invested multiple times in one startup, count one for that company. There are many errors in startup names. Ignore correcting all, just handle the important ones - Ola, Flipkart, Oyo and Paytm."
   ]
  },
  {
   "cell_type": "code",
   "execution_count": 110,
   "id": "d4376b17",
   "metadata": {},
   "outputs": [
    {
     "data": {
      "text/html": [
       "<div>\n",
       "<style scoped>\n",
       "    .dataframe tbody tr th:only-of-type {\n",
       "        vertical-align: middle;\n",
       "    }\n",
       "\n",
       "    .dataframe tbody tr th {\n",
       "        vertical-align: top;\n",
       "    }\n",
       "\n",
       "    .dataframe thead th {\n",
       "        text-align: right;\n",
       "    }\n",
       "</style>\n",
       "<table border=\"1\" class=\"dataframe\">\n",
       "  <thead>\n",
       "    <tr style=\"text-align: right;\">\n",
       "      <th></th>\n",
       "      <th>Investor_Name</th>\n",
       "      <th>StartupName</th>\n",
       "    </tr>\n",
       "  </thead>\n",
       "  <tbody>\n",
       "    <tr>\n",
       "      <th>0</th>\n",
       "      <td>kae capital</td>\n",
       "      <td>TouchKin</td>\n",
       "    </tr>\n",
       "    <tr>\n",
       "      <th>1</th>\n",
       "      <td>triton investment advisors</td>\n",
       "      <td>Ethinos</td>\n",
       "    </tr>\n",
       "    <tr>\n",
       "      <th>2</th>\n",
       "      <td>kashyap deorah</td>\n",
       "      <td>Leverage Edu</td>\n",
       "    </tr>\n",
       "    <tr>\n",
       "      <th>3</th>\n",
       "      <td>anand sankeshwar</td>\n",
       "      <td>Leverage Edu</td>\n",
       "    </tr>\n",
       "    <tr>\n",
       "      <th>4</th>\n",
       "      <td>deepak jain</td>\n",
       "      <td>Leverage Edu</td>\n",
       "    </tr>\n",
       "  </tbody>\n",
       "</table>\n",
       "</div>"
      ],
      "text/plain": [
       "                Investor_Name   StartupName\n",
       "0                 kae capital      TouchKin\n",
       "1  triton investment advisors       Ethinos\n",
       "2              kashyap deorah  Leverage Edu\n",
       "3            anand sankeshwar  Leverage Edu\n",
       "4                 deepak jain  Leverage Edu"
      ]
     },
     "execution_count": 110,
     "metadata": {},
     "output_type": "execute_result"
    }
   ],
   "source": [
    "df_new = data[['InvestorsName','StartupName','InvestmentType']][data['InvestorsName'].notna() & data['InvestmentType'].notna()]\n",
    "\n",
    "startups = df_new['StartupName'].unique()\n",
    "ola = [k for k in startups if 'Ola' in k]\n",
    "\n",
    "for i in ola:\n",
    "    df_new['StartupName'].replace(i,\"Ola\",inplace=True)\n",
    "df_new['StartupName'].replace('Flipkart.com',\"Flipkart\",inplace=True)\n",
    "\n",
    "oyo = [k for k in startups if 'Oyo' in k]\n",
    "for i in oyo:\n",
    "    df_new['StartupName'].replace(i,\"Oyo\",inplace=True)\n",
    "    \n",
    "df_new['StartupName'].replace('Paytm Marketplace',\"Paytm\",inplace=True)\n",
    "\n",
    "\n",
    "investors_data = pd.DataFrame(columns=['Investor_Name','StartupName'])\n",
    "\n",
    "\n",
    "for row in df_new.index:\n",
    "    for i in df_new['InvestorsName'][row].split(','):\n",
    "        if 'undisclosed' not in i.lower():\n",
    "            investors_data.loc[len(investors_data.index)] = [i.lower().strip(),df_new['StartupName'][row]]\n",
    "            \n",
    "investors_data.loc[investors_data['Investor_Name'].str.contains('quoia') & ~investors_data['Investor_Name'].str.contains('and'), 'Investor_Name'] = 'sequoia capital'\n",
    "investors_data.loc[investors_data['Investor_Name'].str.contains('accel ') & ~investors_data['Investor_Name'].str.contains('and'), 'Investor_Name'] = 'accel partners'\n",
    "investors_data.loc[investors_data['Investor_Name'].str.contains('alaari ') & ~investors_data['Investor_Name'].str.contains('and'), 'Investor_Name'] = 'kalaari capital'\n",
    "investors_data.loc[investors_data['Investor_Name'].str.contains('saif') & ~investors_data['Investor_Name'].str.contains('and'), 'Investor_Name'] = 'saif partners'\n",
    "investors_data.loc[investors_data['Investor_Name'].str.contains('indian angel') & ~investors_data['Investor_Name'].str.contains('and'), 'Investor_Name'] = 'indian angel network'\n",
    "\n",
    "            \n",
    "investors_data.head()"
   ]
  },
  {
   "cell_type": "code",
   "execution_count": 111,
   "id": "8e6009ad",
   "metadata": {},
   "outputs": [
    {
     "name": "stdout",
     "output_type": "stream",
     "text": [
      "(4436, 2)\n"
     ]
    }
   ],
   "source": [
    "print(investors_data.shape)"
   ]
  },
  {
   "cell_type": "code",
   "execution_count": 104,
   "id": "bab75020",
   "metadata": {},
   "outputs": [
    {
     "data": {
      "image/png": "[encoded data removed]",
      "text/plain": [
       "<Figure size 640x480 with 1 Axes>"
      ]
     },
     "metadata": {},
     "output_type": "display_data"
    }
   ],
   "source": [
    "investors_data.drop_duplicates(keep='first', inplace=True)\n",
    "dic=dict()\n",
    "for i in investors_data['Investor_Name']:\n",
    "    if i != \"\":\n",
    "        dic[i]=dic.get(i,0)+1\n",
    "    \n",
    "investor_funding = pd.DataFrame(sorted(dic.items(), key=lambda kv:(kv[1], kv[0]),reverse=True)[:5],\n",
    "                                columns=['Investor_Name','No_of_investments'])\n",
    "\n",
    "investor_names = np.array(investor_funding['Investor_Name'])\n",
    "no_of_fundings = np.array(investor_funding['No_of_investments'])\n",
    "\n",
    "plt.bar(investor_names, no_of_fundings)\n",
    "plt.ylabel('Number of Fundings')\n",
    "plt.title('Number of Fundings by Investor in different startups',fontsize=17)\n",
    "plt.xticks(rotation=90)\n",
    "cell_values = []\n",
    "for i in no_of_fundings:\n",
    "    cell_values.append(str(i))\n",
    "addlabels(investor_names, no_of_fundings)\n",
    "plt.show()"
   ]
  },
  {
   "cell_type": "markdown",
   "id": "7c0ec111",
   "metadata": {},
   "source": [
    "## 4.)\n",
    "Even after putting so much effort in finding the probable investors, it didn't turn out to be helpful for your friend. So you went to your investor friend to understand the situation better and your investor friend explained to you about the different Investment Types and their features. This new information will be helpful in finding the right investor. Since your friend startup is at an early stage startup, the best-suited investment type would be - Seed Funding and Crowdfunding. Find the top 5 investors who have invested in a different number of startups and their investment type is Crowdfunding or Seed Funding. Correct spelling of investment types are - \"Private Equity\", \"Seed Funding\", \"Debt Funding\", and \"Crowd Funding\". Keep an eye for any spelling mistake. You can find this by printing unique values from this column. There are many errors in startup names. Ignore correcting all, just handle the important ones - Ola, Flipkart, Oyo and Paytm."
   ]
  },
  {
   "cell_type": "code",
   "execution_count": 126,
   "id": "a625c416",
   "metadata": {},
   "outputs": [
    {
     "data": {
      "text/html": [
       "<div>\n",
       "<style scoped>\n",
       "    .dataframe tbody tr th:only-of-type {\n",
       "        vertical-align: middle;\n",
       "    }\n",
       "\n",
       "    .dataframe tbody tr th {\n",
       "        vertical-align: top;\n",
       "    }\n",
       "\n",
       "    .dataframe thead th {\n",
       "        text-align: right;\n",
       "    }\n",
       "</style>\n",
       "<table border=\"1\" class=\"dataframe\">\n",
       "  <thead>\n",
       "    <tr style=\"text-align: right;\">\n",
       "      <th></th>\n",
       "      <th>Investor_Name</th>\n",
       "      <th>StartupName</th>\n",
       "      <th>Invest_type</th>\n",
       "    </tr>\n",
       "  </thead>\n",
       "  <tbody>\n",
       "    <tr>\n",
       "      <th>0</th>\n",
       "      <td>kae capital</td>\n",
       "      <td>TouchKin</td>\n",
       "      <td>Private Equity</td>\n",
       "    </tr>\n",
       "    <tr>\n",
       "      <th>1</th>\n",
       "      <td>triton investment advisors</td>\n",
       "      <td>Ethinos</td>\n",
       "      <td>Private Equity</td>\n",
       "    </tr>\n",
       "    <tr>\n",
       "      <th>2</th>\n",
       "      <td>kashyap deorah</td>\n",
       "      <td>Leverage Edu</td>\n",
       "      <td>Seed Funding</td>\n",
       "    </tr>\n",
       "    <tr>\n",
       "      <th>3</th>\n",
       "      <td>anand sankeshwar</td>\n",
       "      <td>Leverage Edu</td>\n",
       "      <td>Seed Funding</td>\n",
       "    </tr>\n",
       "    <tr>\n",
       "      <th>4</th>\n",
       "      <td>deepak jain</td>\n",
       "      <td>Leverage Edu</td>\n",
       "      <td>Seed Funding</td>\n",
       "    </tr>\n",
       "  </tbody>\n",
       "</table>\n",
       "</div>"
      ],
      "text/plain": [
       "                Investor_Name   StartupName     Invest_type\n",
       "0                 kae capital      TouchKin  Private Equity\n",
       "1  triton investment advisors       Ethinos  Private Equity\n",
       "2              kashyap deorah  Leverage Edu    Seed Funding\n",
       "3            anand sankeshwar  Leverage Edu    Seed Funding\n",
       "4                 deepak jain  Leverage Edu    Seed Funding"
      ]
     },
     "execution_count": 126,
     "metadata": {},
     "output_type": "execute_result"
    }
   ],
   "source": [
    "df_new['InvestmentType'].replace(\"PrivateEquity\",\"Private Equity\",inplace=True)\n",
    "df_new['InvestmentType'].replace(\"SeedFunding\",\"Seed Funding\",inplace=True)\n",
    "df_new['InvestmentType'].replace(\"Crowd funding\",\"Crowd Funding\",inplace=True)\n",
    "\n",
    "investors_data_new = pd.DataFrame(columns=['Investor_Name','StartupName','Invest_type'])\n",
    "\n",
    "\n",
    "for row in df_new.index:\n",
    "    for i in df_new['InvestorsName'][row].split(','):\n",
    "        if 'undisclosed' not in i.lower():\n",
    "            investors_data_new.loc[len(investors_data_new.index)] = [i.lower().strip(),df_new['StartupName'][row],df_new['InvestmentType'][row]]\n",
    "            \n",
    "investors_data_new.loc[investors_data_new['Investor_Name'].str.contains('quoia') & ~investors_data_new['Investor_Name'].str.contains('and'), 'Investor_Name'] = 'sequoia capital'\n",
    "investors_data_new.loc[investors_data_new['Investor_Name'].str.contains('accel ') & ~investors_data_new['Investor_Name'].str.contains('and'), 'Investor_Name'] = 'accel partners'\n",
    "investors_data_new.loc[investors_data_new['Investor_Name'].str.contains('alaari ') & ~investors_data_new['Investor_Name'].str.contains('and'), 'Investor_Name'] = 'kalaari capital'\n",
    "investors_data_new.loc[investors_data_new['Investor_Name'].str.contains('saif') & ~investors_data_new['Investor_Name'].str.contains('and'), 'Investor_Name'] = 'saif partners'\n",
    "investors_data_new.loc[investors_data_new['Investor_Name'].str.contains('indian angel') & ~investors_data_new['Investor_Name'].str.contains('and'), 'Investor_Name'] = 'indian angel network'\n",
    "\n",
    "            \n",
    "investors_data_new.head()"
   ]
  },
  {
   "cell_type": "code",
   "execution_count": 127,
   "id": "5b8aebcd",
   "metadata": {},
   "outputs": [
    {
     "data": {
      "text/plain": [
       "(4436, 3)"
      ]
     },
     "execution_count": 127,
     "metadata": {},
     "output_type": "execute_result"
    }
   ],
   "source": [
    "investors_data_new.shape"
   ]
  },
  {
   "cell_type": "code",
   "execution_count": 128,
   "id": "64e82122",
   "metadata": {},
   "outputs": [
    {
     "name": "stdout",
     "output_type": "stream",
     "text": [
      "(2366, 2)\n"
     ]
    },
    {
     "data": {
      "text/html": [
       "<div>\n",
       "<style scoped>\n",
       "    .dataframe tbody tr th:only-of-type {\n",
       "        vertical-align: middle;\n",
       "    }\n",
       "\n",
       "    .dataframe tbody tr th {\n",
       "        vertical-align: top;\n",
       "    }\n",
       "\n",
       "    .dataframe thead th {\n",
       "        text-align: right;\n",
       "    }\n",
       "</style>\n",
       "<table border=\"1\" class=\"dataframe\">\n",
       "  <thead>\n",
       "    <tr style=\"text-align: right;\">\n",
       "      <th></th>\n",
       "      <th>Investor_Name</th>\n",
       "      <th>StartupName</th>\n",
       "    </tr>\n",
       "  </thead>\n",
       "  <tbody>\n",
       "    <tr>\n",
       "      <th>2</th>\n",
       "      <td>kashyap deorah</td>\n",
       "      <td>Leverage Edu</td>\n",
       "    </tr>\n",
       "    <tr>\n",
       "      <th>3</th>\n",
       "      <td>anand sankeshwar</td>\n",
       "      <td>Leverage Edu</td>\n",
       "    </tr>\n",
       "    <tr>\n",
       "      <th>4</th>\n",
       "      <td>deepak jain</td>\n",
       "      <td>Leverage Edu</td>\n",
       "    </tr>\n",
       "    <tr>\n",
       "      <th>5</th>\n",
       "      <td>sadashiva nt</td>\n",
       "      <td>Leverage Edu</td>\n",
       "    </tr>\n",
       "    <tr>\n",
       "      <th>6</th>\n",
       "      <td>arjun mehta</td>\n",
       "      <td>Leverage Edu</td>\n",
       "    </tr>\n",
       "  </tbody>\n",
       "</table>\n",
       "</div>"
      ],
      "text/plain": [
       "      Investor_Name   StartupName\n",
       "2    kashyap deorah  Leverage Edu\n",
       "3  anand sankeshwar  Leverage Edu\n",
       "4       deepak jain  Leverage Edu\n",
       "5      sadashiva nt  Leverage Edu\n",
       "6       arjun mehta  Leverage Edu"
      ]
     },
     "execution_count": 128,
     "metadata": {},
     "output_type": "execute_result"
    }
   ],
   "source": [
    "investors_data_new_seed_crowd = investors_data_new[investors_data_new['Invest_type'].isin([\"Seed Funding\",\"Crowd Funding\"])][['Investor_Name','StartupName']]\n",
    "print(investors_data_new_seed_crowd.shape)\n",
    "investors_data_new_seed_crowd.head()"
   ]
  },
  {
   "cell_type": "code",
   "execution_count": 135,
   "id": "f5f64d54",
   "metadata": {},
   "outputs": [
    {
     "data": {
      "image/png": "[encoded data removed]",
      "text/plain": [
       "<Figure size 640x480 with 1 Axes>"
      ]
     },
     "metadata": {},
     "output_type": "display_data"
    }
   ],
   "source": [
    "\n",
    "investors_data_new_seed_crowd.drop_duplicates(keep='first', inplace=True)\n",
    "dic=dict()\n",
    "for i in investors_data_new_seed_crowd['Investor_Name']:\n",
    "    if i != \"\":\n",
    "        dic[i]=dic.get(i,0)+1\n",
    "    \n",
    "investor_funding = pd.DataFrame(sorted(dic.items(), key=lambda kv:(kv[1], kv[0]),reverse=True)[:5],\n",
    "                                columns=['Investor_Name','No_of_investments'])\n",
    "\n",
    "investor_names = np.array(investor_funding['Investor_Name'])\n",
    "no_of_fundings = np.array(investor_funding['No_of_investments'])\n",
    "\n",
    "plt.bar(investor_names, no_of_fundings)\n",
    "plt.ylabel('Number of Fundings')\n",
    "plt.title('Number of Fundings by Investor in different startups through Crowd or Seed Funding',fontsize=17)\n",
    "plt.xticks(rotation=90)\n",
    "cell_values = []\n",
    "for i in no_of_fundings:\n",
    "    cell_values.append(str(i))\n",
    "addlabels(investor_names, no_of_fundings)\n",
    "plt.show()"
   ]
  },
  {
   "cell_type": "markdown",
   "id": "2616b184",
   "metadata": {},
   "source": [
    "## 5.)\n",
    "Due to your immense help, your friend startup successfully got seed funding and it is on the operational mode. Now your friend wants to expand his startup and he is looking for new investors for his startup. Now you again come as a saviour to help your friend and want to create a list of probable new new investors. Before moving forward you remember your investor friend advice that finding the investors by analysing the investment type. Since your friend startup is not in early phase it is in growth stage so the best-suited investment type is Private Equity. Find the top 5 investors who have invested in a different number of startups and their investment type is Private Equity. Correct spelling of investment types are - \"Private Equity\", \"Seed Funding\", \"Debt Funding\", and \"Crowd Funding\". Keep an eye for any spelling mistake. You can find this by printing unique values from this column. There are many errors in startup names. Ignore correcting all, just handle the important ones - Ola, Flipkart, Oyo and Paytm."
   ]
  },
  {
   "cell_type": "code",
   "execution_count": 132,
   "id": "4efa9bf7",
   "metadata": {},
   "outputs": [
    {
     "name": "stdout",
     "output_type": "stream",
     "text": [
      "(2069, 2)\n"
     ]
    },
    {
     "data": {
      "text/html": [
       "<div>\n",
       "<style scoped>\n",
       "    .dataframe tbody tr th:only-of-type {\n",
       "        vertical-align: middle;\n",
       "    }\n",
       "\n",
       "    .dataframe tbody tr th {\n",
       "        vertical-align: top;\n",
       "    }\n",
       "\n",
       "    .dataframe thead th {\n",
       "        text-align: right;\n",
       "    }\n",
       "</style>\n",
       "<table border=\"1\" class=\"dataframe\">\n",
       "  <thead>\n",
       "    <tr style=\"text-align: right;\">\n",
       "      <th></th>\n",
       "      <th>Investor_Name</th>\n",
       "      <th>StartupName</th>\n",
       "    </tr>\n",
       "  </thead>\n",
       "  <tbody>\n",
       "    <tr>\n",
       "      <th>0</th>\n",
       "      <td>kae capital</td>\n",
       "      <td>TouchKin</td>\n",
       "    </tr>\n",
       "    <tr>\n",
       "      <th>1</th>\n",
       "      <td>triton investment advisors</td>\n",
       "      <td>Ethinos</td>\n",
       "    </tr>\n",
       "    <tr>\n",
       "      <th>16</th>\n",
       "      <td>infuse ventures</td>\n",
       "      <td>Ecolibriumenergy</td>\n",
       "    </tr>\n",
       "    <tr>\n",
       "      <th>17</th>\n",
       "      <td>jll</td>\n",
       "      <td>Ecolibriumenergy</td>\n",
       "    </tr>\n",
       "    <tr>\n",
       "      <th>18</th>\n",
       "      <td>asset management (asia) ltd</td>\n",
       "      <td>Droom</td>\n",
       "    </tr>\n",
       "  </tbody>\n",
       "</table>\n",
       "</div>"
      ],
      "text/plain": [
       "                  Investor_Name       StartupName\n",
       "0                   kae capital          TouchKin\n",
       "1    triton investment advisors           Ethinos\n",
       "16              infuse ventures  Ecolibriumenergy\n",
       "17                          jll  Ecolibriumenergy\n",
       "18  asset management (asia) ltd             Droom"
      ]
     },
     "execution_count": 132,
     "metadata": {},
     "output_type": "execute_result"
    }
   ],
   "source": [
    "investors_data_new_private_fund = investors_data_new[investors_data_new['Invest_type']=='Private Equity'][['Investor_Name','StartupName']]\n",
    "print(investors_data_new_private_fund.shape)\n",
    "investors_data_new_private_fund.head()"
   ]
  },
  {
   "cell_type": "code",
   "execution_count": 134,
   "id": "dd9991ee",
   "metadata": {},
   "outputs": [
    {
     "data": {
      "image/png": "[encoded data removed]",
      "text/plain": [
       "<Figure size 640x480 with 1 Axes>"
      ]
     },
     "metadata": {},
     "output_type": "display_data"
    }
   ],
   "source": [
    "\n",
    "investors_data_new_private_fund.drop_duplicates(keep='first', inplace=True)\n",
    "dic=dict()\n",
    "for i in investors_data_new_private_fund['Investor_Name']:\n",
    "    if i != \"\":\n",
    "        dic[i]=dic.get(i,0)+1\n",
    "    \n",
    "investor_funding = pd.DataFrame(sorted(dic.items(), key=lambda kv:(kv[1], kv[0]),reverse=True)[:5],\n",
    "                                columns=['Investor_Name','No_of_investments'])\n",
    "\n",
    "investor_names = np.array(investor_funding['Investor_Name'])\n",
    "no_of_fundings = np.array(investor_funding['No_of_investments'])\n",
    "\n",
    "plt.bar(investor_names, no_of_fundings)\n",
    "plt.ylabel('Number of Fundings')\n",
    "plt.title('Number of Fundings by Investor in different startups through Private Equity',fontsize=17)\n",
    "plt.xticks(rotation=90)\n",
    "cell_values = []\n",
    "for i in no_of_fundings:\n",
    "    cell_values.append(str(i))\n",
    "addlabels(investor_names, no_of_fundings)\n",
    "plt.show()"
   ]
  },
  {
   "cell_type": "code",
   "execution_count": null,
   "id": "122970f1",
   "metadata": {},
   "outputs": [],
   "source": []
  }
 ],
 "metadata": {
  "kernelspec": {
   "display_name": "Python 3 (ipykernel)",
   "language": "python",
   "name": "python3"
  },
  "language_info": {
   "codemirror_mode": {
    "name": "ipython",
    "version": 3
   },
   "file_extension": ".py",
   "mimetype": "text/x-python",
   "name": "python",
   "nbconvert_exporter": "python",
   "pygments_lexer": "ipython3",
   "version": "3.9.13"
  }
 },
 "nbformat": 4,
 "nbformat_minor": 5
}
